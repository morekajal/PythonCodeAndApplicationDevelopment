{
 "cells": [
  {
   "cell_type": "markdown",
   "metadata": {},
   "source": [
    "List : way of storing data\n",
    "- A type of a sequence\n",
    "- can store mixed datatypes in list []\n",
    "- Its a ordered collection of data\n",
    "- Starting with index 0\n",
    "- Python documentation : https://docs.python.org/3/tutorial/datastructures.html"
   ]
  },
  {
   "cell_type": "code",
   "execution_count": 2,
   "metadata": {},
   "outputs": [
    {
     "name": "stdout",
     "output_type": "stream",
     "text": [
      "India\n",
      "Germany\n"
     ]
    }
   ],
   "source": [
    "countries = [\"India\", \"United States\", \"Canada\", \"Australia\", \"Germany\", \"Japan\", \"Brazil\"]\n",
    "print(countries[0])\n",
    "print(countries[-3])"
   ]
  },
  {
   "cell_type": "markdown",
   "metadata": {},
   "source": [
    "Fun Time:\n",
    "- From a list of friends name, takeout any random name who will pay the restaurant bill"
   ]
  },
  {
   "cell_type": "code",
   "execution_count": 3,
   "metadata": {},
   "outputs": [
    {
     "name": "stdout",
     "output_type": "stream",
     "text": [
      "Chandu\n"
     ]
    }
   ],
   "source": [
    "# Opetion 1\n",
    "# python inbuilt function to randomly pick element from list : random.choices\n",
    "\n",
    "import random\n",
    "\n",
    "friends = ['Agy', \"Elango\", 'Prateek', \"Chandu\", \"Raj\"]\n",
    "\n",
    "print(random.choice(friends))"
   ]
  },
  {
   "cell_type": "code",
   "execution_count": 4,
   "metadata": {},
   "outputs": [
    {
     "name": "stdout",
     "output_type": "stream",
     "text": [
      "5\n"
     ]
    }
   ],
   "source": [
    "len_list = len(friends)\n",
    "print(len_list)"
   ]
  },
  {
   "cell_type": "code",
   "execution_count": 5,
   "metadata": {},
   "outputs": [
    {
     "name": "stdout",
     "output_type": "stream",
     "text": [
      "Prateek\n"
     ]
    }
   ],
   "source": [
    "# Option 2\n",
    "# randomize the list of items based on index using randint\n",
    "\n",
    "rand_index = random.randint(0,4)\n",
    "print(friends[rand_index])"
   ]
  },
  {
   "cell_type": "code",
   "execution_count": 6,
   "metadata": {},
   "outputs": [
    {
     "name": "stdout",
     "output_type": "stream",
     "text": [
      "[['Apple', 'Banana', 'Grapes', 'Orange', 'Mango'], ['Carrot', 'Spinach', 'Tomato', 'Cucumber', 'Potato']]\n"
     ]
    }
   ],
   "source": [
    "# dirty_dozen = ['Apple', 'Carrot', 'Banana', 'Spinach', 'Grapes', 'Tomato', 'Orange', 'Cucumber', 'Mango', 'Potato']\n",
    "\n",
    "fruits = [\"Apple\", \"Banana\", \"Grapes\", \"Orange\", \"Mango\"]\n",
    "vegetables = [\"Carrot\", \"Spinach\", \"Tomato\", \"Cucumber\", \"Potato\"]\n",
    "\n",
    "dirty_dozen = [fruits, vegetables]\n",
    "print(dirty_dozen)"
   ]
  },
  {
   "cell_type": "code",
   "execution_count": 8,
   "metadata": {},
   "outputs": [
    {
     "name": "stdout",
     "output_type": "stream",
     "text": [
      "Spinach\n"
     ]
    }
   ],
   "source": [
    "print(dirty_dozen[1][1])"
   ]
  },
  {
   "cell_type": "code",
   "execution_count": 7,
   "metadata": {},
   "outputs": [
    {
     "name": "stdout",
     "output_type": "stream",
     "text": [
      "['Strawberries', 'Nectarines', 'Apples', 'Grapes', 'Peaches', 'Cherries', 'Melons', 'Lemons']\n"
     ]
    }
   ],
   "source": [
    "fruits = [\"Strawberries\", \"Nectarines\", \"Apples\", \"Grapes\", \"Peaches\", \"Cherries\", \"Pears\"]\n",
    "fruits[-1] = \"Melons\"\n",
    "fruits.append(\"Lemons\")\n",
    "print(fruits)"
   ]
  },
  {
   "cell_type": "code",
   "execution_count": null,
   "metadata": {},
   "outputs": [],
   "source": []
  }
 ],
 "metadata": {
  "kernelspec": {
   "display_name": "env",
   "language": "python",
   "name": "python3"
  },
  "language_info": {
   "codemirror_mode": {
    "name": "ipython",
    "version": 3
   },
   "file_extension": ".py",
   "mimetype": "text/x-python",
   "name": "python",
   "nbconvert_exporter": "python",
   "pygments_lexer": "ipython3",
   "version": "3.12.6"
  }
 },
 "nbformat": 4,
 "nbformat_minor": 2
}
