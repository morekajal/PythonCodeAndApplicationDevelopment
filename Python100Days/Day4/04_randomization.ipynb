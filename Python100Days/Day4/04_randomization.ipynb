{
 "cells": [
  {
   "cell_type": "code",
   "execution_count": 1,
   "metadata": {},
   "outputs": [
    {
     "name": "stdout",
     "output_type": "stream",
     "text": [
      "9\n"
     ]
    }
   ],
   "source": [
    "import random\n",
    "\n",
    "rand_int = random.randint(1, 10)\n",
    "print(rand_int)"
   ]
  },
  {
   "cell_type": "markdown",
   "metadata": {},
   "source": [
    "What is a Module:\n",
    "- set of specific functions or tasks\n",
    "- Python random module : https://docs.python.org/3/library/random.html\n"
   ]
  },
  {
   "cell_type": "code",
   "execution_count": 3,
   "metadata": {},
   "outputs": [
    {
     "name": "stdout",
     "output_type": "stream",
     "text": [
      "0.5554567966597932\n"
     ]
    }
   ],
   "source": [
    "## includes lower bound but excludes upper bound\n",
    "rand_0_to_1 = random.random()     #module.function\n",
    "print(rand_0_to_1)"
   ]
  },
  {
   "cell_type": "code",
   "execution_count": 4,
   "metadata": {},
   "outputs": [
    {
     "name": "stdout",
     "output_type": "stream",
     "text": [
      "7.454991669727563\n"
     ]
    }
   ],
   "source": [
    "rand_0_to_1 = random.random() * 10\n",
    "print(rand_0_to_1)"
   ]
  },
  {
   "cell_type": "code",
   "execution_count": 5,
   "metadata": {},
   "outputs": [
    {
     "name": "stdout",
     "output_type": "stream",
     "text": [
      "8.613828082081952\n"
     ]
    }
   ],
   "source": [
    "## random float number\n",
    "rand_float = random.uniform(1, 10)    # inclusive of lower and upper bound\n",
    "print(rand_float)"
   ]
  },
  {
   "cell_type": "markdown",
   "metadata": {},
   "source": [
    "Generate Heads or Tails Randomly"
   ]
  },
  {
   "cell_type": "code",
   "execution_count": 10,
   "metadata": {},
   "outputs": [
    {
     "name": "stdout",
     "output_type": "stream",
     "text": [
      "0\n",
      "Heads\n"
     ]
    }
   ],
   "source": [
    "rand_h_or_t=random.randint(0,1)    # randint : either 0 or 1\n",
    "print(rand_h_or_t)\n",
    "\n",
    "if rand_h_or_t == 0:\n",
    "    print(\"Heads\")\n",
    "else:\n",
    "    print(\"Tails\")"
   ]
  }
 ],
 "metadata": {
  "kernelspec": {
   "display_name": "env",
   "language": "python",
   "name": "python3"
  },
  "language_info": {
   "codemirror_mode": {
    "name": "ipython",
    "version": 3
   },
   "file_extension": ".py",
   "mimetype": "text/x-python",
   "name": "python",
   "nbconvert_exporter": "python",
   "pygments_lexer": "ipython3",
   "version": "3.12.6"
  }
 },
 "nbformat": 4,
 "nbformat_minor": 2
}
