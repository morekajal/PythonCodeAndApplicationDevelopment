{
 "cells": [
  {
   "cell_type": "code",
   "execution_count": 3,
   "metadata": {},
   "outputs": [
    {
     "name": "stdout",
     "output_type": "stream",
     "text": [
      "Hello World!\n"
     ]
    }
   ],
   "source": [
    "print(\"Hello World!\")"
   ]
  },
  {
   "cell_type": "code",
   "execution_count": 2,
   "metadata": {},
   "outputs": [
    {
     "name": "stdout",
     "output_type": "stream",
     "text": [
      "Hello World!\n"
     ]
    }
   ],
   "source": [
    "print(f\"Hello World!\")"
   ]
  },
  {
   "cell_type": "markdown",
   "metadata": {},
   "source": [
    "Write a program that uses print statements to print the following recipe into the Output console. The text to print is already there, you just need to make it into code.\n",
    "\n",
    "1. Mix 500g of Flour, 10g Yeast and 300ml Water in a bowl.\n",
    "2. Knead the dough for 10 minutes.\n",
    "3. Add 3g of Salt.\n",
    "4. Leave to rise for 2 hours.\n",
    "5. Bake at 200 degrees C for 30 minutes."
   ]
  },
  {
   "cell_type": "code",
   "execution_count": 4,
   "metadata": {},
   "outputs": [
    {
     "name": "stdout",
     "output_type": "stream",
     "text": [
      "1. Mix 500g of Flour, 10g Yeast and 300ml Water in a bowl.\n",
      "2. Knead the dough for 10 minutes.\n",
      "3. Add 3g of Salt.\n",
      "4. Leave to rise for 2 hours.\n",
      "5. Bake at 200 degrees C for 30 minutes.\n"
     ]
    }
   ],
   "source": [
    "print(\"1. Mix 500g of Flour, 10g Yeast and 300ml Water in a bowl.\")\n",
    "print(\"2. Knead the dough for 10 minutes.\")\n",
    "print(\"3. Add 3g of Salt.\")\n",
    "print(\"4. Leave to rise for 2 hours.\")\n",
    "print(\"5. Bake at 200 degrees C for 30 minutes.\")"
   ]
  },
  {
   "cell_type": "code",
   "execution_count": 6,
   "metadata": {},
   "outputs": [
    {
     "name": "stdout",
     "output_type": "stream",
     "text": [
      "Hello World! /n Hello World! /n Hello World!\n"
     ]
    }
   ],
   "source": [
    "# new line\n",
    "print(\"Hello World! /n Hello World! /n Hello World!\")"
   ]
  },
  {
   "cell_type": "code",
   "execution_count": 7,
   "metadata": {},
   "outputs": [
    {
     "name": "stdout",
     "output_type": "stream",
     "text": [
      "Hello World\n"
     ]
    }
   ],
   "source": [
    "# string concatination\n",
    "print(\"Hello\" + \" \" + \"World\")"
   ]
  },
  {
   "cell_type": "code",
   "execution_count": 8,
   "metadata": {},
   "outputs": [
    {
     "data": {
      "text/plain": [
       "'I am Angel'"
      ]
     },
     "execution_count": 8,
     "metadata": {},
     "output_type": "execute_result"
    }
   ],
   "source": [
    "# Python Input function\n",
    "input(\"Who are you?\")"
   ]
  },
  {
   "cell_type": "code",
   "execution_count": 10,
   "metadata": {},
   "outputs": [
    {
     "name": "stdout",
     "output_type": "stream",
     "text": [
      "Hello Angel\n"
     ]
    }
   ],
   "source": [
    "print(\"Hello \" + input(\"What is your name?\"))\n"
   ]
  },
  {
   "cell_type": "code",
   "execution_count": 11,
   "metadata": {},
   "outputs": [
    {
     "name": "stdout",
     "output_type": "stream",
     "text": [
      "Angela\n"
     ]
    }
   ],
   "source": [
    "# Variables in Python\n",
    "name = input(\"What is your name?\")\n",
    "print(name)"
   ]
  },
  {
   "cell_type": "code",
   "execution_count": 13,
   "metadata": {},
   "outputs": [
    {
     "data": {
      "text/plain": [
       "6"
      ]
     },
     "execution_count": 13,
     "metadata": {},
     "output_type": "execute_result"
    }
   ],
   "source": [
    "# To check how many characters are in the name variable\n",
    "len(name)"
   ]
  },
  {
   "cell_type": "code",
   "execution_count": 14,
   "metadata": {},
   "outputs": [
    {
     "name": "stdout",
     "output_type": "stream",
     "text": [
      "6\n"
     ]
    }
   ],
   "source": [
    "print(len(input(\"what is your name?\")))"
   ]
  },
  {
   "cell_type": "markdown",
   "metadata": {},
   "source": [
    "We have 2 variables glass1 and glass2. glass1 contains milk and glass2 contains juice. Write 3 lines of code to switch the contents of the variables. You are not allowed to type the words \"milk\" or \"juice\". You are only allowed to use variables to solve this exercise."
   ]
  },
  {
   "cell_type": "code",
   "execution_count": 16,
   "metadata": {},
   "outputs": [],
   "source": [
    "glass1 = \"milk\"\n",
    "glass2 = \"juice\"\n",
    "\n",
    "temp = glass1\n",
    "glass1 = glass2\n",
    "glass2 = temp"
   ]
  },
  {
   "cell_type": "code",
   "execution_count": 17,
   "metadata": {},
   "outputs": [
    {
     "name": "stdout",
     "output_type": "stream",
     "text": [
      "glass1 is :  juice\n",
      "glass2 is :  milk\n"
     ]
    }
   ],
   "source": [
    "print(\"glass1 is : \", glass1)\n",
    "print(\"glass2 is : \", glass2)"
   ]
  },
  {
   "cell_type": "code",
   "execution_count": 18,
   "metadata": {},
   "outputs": [
    {
     "name": "stdout",
     "output_type": "stream",
     "text": [
      "There are 5 hours until midnight\n"
     ]
    }
   ],
   "source": [
    "time_until_midnight = \"5\"\n",
    "print(\"There are \" + time_until_midnight + \" hours until midnight\")"
   ]
  },
  {
   "cell_type": "code",
   "execution_count": 19,
   "metadata": {},
   "outputs": [
    {
     "name": "stdout",
     "output_type": "stream",
     "text": [
      "There are 5 hours until midnight\n"
     ]
    }
   ],
   "source": [
    "time_until_midnight = \"5\"\n",
    "print(\"There are \" +time_until_midnight+ \" hours until midnight\")"
   ]
  },
  {
   "cell_type": "code",
   "execution_count": 20,
   "metadata": {},
   "outputs": [
    {
     "name": "stdout",
     "output_type": "stream",
     "text": [
      "There are 5 hours until midnight\n"
     ]
    }
   ],
   "source": [
    "num_hours = \"5\"\n",
    "print(\"There are \" + num_hours + \" hours until midnight\")"
   ]
  },
  {
   "cell_type": "markdown",
   "metadata": {},
   "source": [
    "Band Name Generator Task:\n",
    "1. Create a greating for your program\n",
    "2. Ask the user for the city that grew up in and store it in a variable\n",
    "3. Ask the user for the name of a pet ans store it in a variable\n",
    "4. Continue the name of their city and pet and show them their band name"
   ]
  },
  {
   "cell_type": "code",
   "execution_count": 21,
   "metadata": {},
   "outputs": [
    {
     "name": "stdout",
     "output_type": "stream",
     "text": [
      "Welcome to the Band Name Generator.\n",
      "bangalore\n",
      "Your Band name could be: bangalore tommy\n"
     ]
    }
   ],
   "source": [
    "print(\"Welcome to the Band Name Generator.\")\n",
    "\n",
    "city = input(\"Which city did you grew up in?\")\n",
    "print(city)\n",
    "pet = input(\"What is the name of your pet?\")\n",
    "print(\"Your Band name could be: \" + city + \" \" + pet)"
   ]
  },
  {
   "cell_type": "code",
   "execution_count": null,
   "metadata": {},
   "outputs": [],
   "source": []
  }
 ],
 "metadata": {
  "kernelspec": {
   "display_name": "env",
   "language": "python",
   "name": "python3"
  },
  "language_info": {
   "codemirror_mode": {
    "name": "ipython",
    "version": 3
   },
   "file_extension": ".py",
   "mimetype": "text/x-python",
   "name": "python",
   "nbconvert_exporter": "python",
   "pygments_lexer": "ipython3",
   "version": "3.12.6"
  }
 },
 "nbformat": 4,
 "nbformat_minor": 2
}
