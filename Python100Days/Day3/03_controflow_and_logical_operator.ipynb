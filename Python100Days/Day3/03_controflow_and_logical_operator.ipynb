{
 "cells": [
  {
   "cell_type": "markdown",
   "metadata": {},
   "source": [
    "Create a Rollercoaster entry pass for those whose heights is 120cm or more. Others are not eligible for the ride to take"
   ]
  },
  {
   "cell_type": "code",
   "execution_count": 1,
   "metadata": {},
   "outputs": [
    {
     "name": "stdout",
     "output_type": "stream",
     "text": [
      "Welcome to the RollerCoaster!\n"
     ]
    }
   ],
   "source": [
    "print(\"Welcome to the RollerCoaster!\")"
   ]
  },
  {
   "cell_type": "code",
   "execution_count": 2,
   "metadata": {},
   "outputs": [
    {
     "name": "stdout",
     "output_type": "stream",
     "text": [
      "You can ride the rollercoaster\n"
     ]
    }
   ],
   "source": [
    "height = int(input(\"What is your height in cm?\"))\n",
    "\n",
    "if height >= 120:\n",
    "    print(\"You can ride the rollercoaster\")\n",
    "else:\n",
    "    print(\"Sorry, you are too younger to take this ride.\")"
   ]
  },
  {
   "cell_type": "markdown",
   "metadata": {},
   "source": [
    "#### Modulo operator : % : gives remaining after the division"
   ]
  },
  {
   "cell_type": "code",
   "execution_count": 3,
   "metadata": {},
   "outputs": [
    {
     "data": {
      "text/plain": [
       "1"
      ]
     },
     "execution_count": 3,
     "metadata": {},
     "output_type": "execute_result"
    }
   ],
   "source": [
    "\n",
    "10 % 3"
   ]
  },
  {
   "cell_type": "code",
   "execution_count": 4,
   "metadata": {},
   "outputs": [
    {
     "name": "stdout",
     "output_type": "stream",
     "text": [
      "43\n"
     ]
    }
   ],
   "source": [
    "num_to_check = int(input(\"What is the number you want to check for modulo\"))\n",
    "print(num_to_check)\n"
   ]
  },
  {
   "cell_type": "code",
   "execution_count": 5,
   "metadata": {},
   "outputs": [
    {
     "name": "stdout",
     "output_type": "stream",
     "text": [
      "Odd number\n"
     ]
    }
   ],
   "source": [
    "if num_to_check % 2 == 0:\n",
    "    print(\"Even Number\")\n",
    "else:\n",
    "    print(\"Odd number\")"
   ]
  },
  {
   "cell_type": "markdown",
   "metadata": {},
   "source": [
    "#### Nested if-elif\n",
    "- Check if height over 120cm, if yes age above 18 should pay $12 and who are below 18 should pay $7, or else can not ride"
   ]
  },
  {
   "cell_type": "code",
   "execution_count": 7,
   "metadata": {},
   "outputs": [
    {
     "name": "stdout",
     "output_type": "stream",
     "text": [
      "134\n"
     ]
    }
   ],
   "source": [
    "height = int(input(\"What is your height in cm?\"))\n",
    "print(height)"
   ]
  },
  {
   "cell_type": "code",
   "execution_count": 9,
   "metadata": {},
   "outputs": [
    {
     "name": "stdout",
     "output_type": "stream",
     "text": [
      "You  can ride the rollercoaster\n",
      "Your age is :  23\n",
      "Please pay $12\n"
     ]
    }
   ],
   "source": [
    "if height>=120:\n",
    "    print(\"You  can ride the rollercoaster\")\n",
    "    age = int(input(\"What is your age?\"))\n",
    "    print(\"Your age is : \", age)\n",
    "    if age <=18:\n",
    "        print(\"Please pay $7\")\n",
    "    else:\n",
    "        print(\"Please pay $12\")\n",
    "else:\n",
    "    print(\"Sorry, you have to grow taller before you can ride\")"
   ]
  },
  {
   "cell_type": "markdown",
   "metadata": {},
   "source": [
    "Lets add another condition: if the age is below 12, pay $5, age between 12-18 should pay $7, and age above 18 should pay $12"
   ]
  },
  {
   "cell_type": "code",
   "execution_count": 11,
   "metadata": {},
   "outputs": [
    {
     "name": "stdout",
     "output_type": "stream",
     "text": [
      "You  can ride the rollercoaster\n",
      "Your age is :  14\n",
      "Please pay $7\n"
     ]
    }
   ],
   "source": [
    "if height>=120:\n",
    "    print(\"You  can ride the rollercoaster\")\n",
    "    age = int(input(\"What is your age?\"))\n",
    "    print(\"Your age is : \", age)\n",
    "    if age <=12:\n",
    "        print(\"Please pay $5\")\n",
    "    elif age>12 and age<18:\n",
    "        print(\"Please pay $7\")\n",
    "    else:\n",
    "        print(\"Please pay $12\")\n",
    "else:\n",
    "    print(\"Sorry, you have to grow taller before you can ride\")"
   ]
  },
  {
   "cell_type": "markdown",
   "metadata": {},
   "source": [
    "- In case of if/elif/else - only one of these conditions will be carried out\n",
    "- while in case when we have Multiple if , all if conditions are checked and executed"
   ]
  },
  {
   "cell_type": "markdown",
   "metadata": {},
   "source": [
    "Lets add one more condition like - After checkeing the ticket prices, will ask for if the rider wants to click photo, if yes - pay extra $3 and finally we will give them the total bill"
   ]
  },
  {
   "cell_type": "code",
   "execution_count": 13,
   "metadata": {},
   "outputs": [
    {
     "name": "stdout",
     "output_type": "stream",
     "text": [
      "Your height is :  134\n",
      "You  can ride the rollercoaster\n",
      "Your age is :  24\n",
      "Adult tickets are $12\n",
      "You choose to take photo\n",
      "Your final bill is : $15\n"
     ]
    }
   ],
   "source": [
    "bill = 0\n",
    "if height>=120:\n",
    "    print(\"Your height is : \", height)\n",
    "    print(\"You  can ride the rollercoaster\")\n",
    "    age = int(input(\"What is your age?\"))\n",
    "    print(\"Your age is : \", age)\n",
    "    if age <=12:\n",
    "        bill = 5\n",
    "        print(\"Child tickets are $5.\")\n",
    "    elif age>12 and age<18:\n",
    "        bill = 7\n",
    "        print(\"Youth tickets are $7\")\n",
    "    else:\n",
    "        bill = 12\n",
    "        print(\"Adult tickets are $12\")\n",
    "    wants_photo = input(\"Do you want to have a photo take? Type y for yes and n for No.\")\n",
    "    if wants_photo==\"y\":\n",
    "        print(\"You choose to take photo\")\n",
    "        # Add $3 to their bill\n",
    "        bill += 3\n",
    "    print(f\"Your final bill is : ${bill}\")\n",
    "\n",
    "\n",
    "else:\n",
    "    print(\"Sorry, you have to grow taller before you can ride\")"
   ]
  },
  {
   "cell_type": "code",
   "execution_count": null,
   "metadata": {},
   "outputs": [],
   "source": []
  }
 ],
 "metadata": {
  "kernelspec": {
   "display_name": "env",
   "language": "python",
   "name": "python3"
  },
  "language_info": {
   "codemirror_mode": {
    "name": "ipython",
    "version": 3
   },
   "file_extension": ".py",
   "mimetype": "text/x-python",
   "name": "python",
   "nbconvert_exporter": "python",
   "pygments_lexer": "ipython3",
   "version": "3.12.6"
  }
 },
 "nbformat": 4,
 "nbformat_minor": 2
}
